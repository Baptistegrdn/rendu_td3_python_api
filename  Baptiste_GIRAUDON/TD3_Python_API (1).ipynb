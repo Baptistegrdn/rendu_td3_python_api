{
  "cells": [
    {
      "cell_type": "markdown",
      "metadata": {
        "id": "wLrWqtC8xTd3"
      },
      "source": [
        "# Python with APIs\n",
        "Exchanges via HTTP using `requests` package"
      ]
    },
    {
      "cell_type": "code",
      "execution_count": 3,
      "metadata": {
        "id": "F0owq5jMxTd5"
      },
      "outputs": [],
      "source": [
        "import requests"
      ]
    },
    {
      "cell_type": "markdown",
      "metadata": {
        "id": "5vrzoUM7xTd6"
      },
      "source": [
        "## Example"
      ]
    },
    {
      "cell_type": "markdown",
      "metadata": {
        "id": "mt9yJ3IfxTd6"
      },
      "source": [
        "### Agify API"
      ]
    },
    {
      "cell_type": "markdown",
      "metadata": {
        "id": "nC29gff6xTd7"
      },
      "source": [
        "Example route for Agify API"
      ]
    },
    {
      "cell_type": "code",
      "execution_count": 2,
      "metadata": {
        "id": "CAamHnqkxTd7"
      },
      "outputs": [],
      "source": [
        "agify_dan = \"https://api.agify.io/?name=dan\""
      ]
    },
    {
      "cell_type": "markdown",
      "metadata": {
        "id": "vsGUN-3JxTd7"
      },
      "source": [
        "Extract response"
      ]
    },
    {
      "cell_type": "code",
      "execution_count": 4,
      "metadata": {
        "colab": {
          "base_uri": "https://localhost:8080/"
        },
        "id": "JLnADijoxTd7",
        "outputId": "44d47c82-71b9-49d2-d8d9-d10e4362c112"
      },
      "outputs": [
        {
          "output_type": "stream",
          "name": "stdout",
          "text": [
            "Answer status_code: <Response [200]>\n",
            "<class 'str'>\n",
            "<class 'dict'>\n",
            "{\"count\":67782,\"name\":\"dan\",\"age\":66}\n",
            "{'count': 67782, 'name': 'dan', 'age': 66}\n"
          ]
        }
      ],
      "source": [
        "# Run a GET request\n",
        "agify_answer = requests.get(agify_dan)\n",
        "agify_answer_txt = agify_answer.text\n",
        "agify_answer_json = agify_answer.json()\n",
        "\n",
        "print(f\"Answer status_code: {agify_answer}\")\n",
        "\n",
        "print(type(agify_answer_txt))\n",
        "print(type(agify_answer_json))\n",
        "\n",
        "print(agify_answer_txt)\n",
        "print(agify_answer_json)"
      ]
    },
    {
      "cell_type": "markdown",
      "metadata": {
        "id": "z4xovU7ixTd8"
      },
      "source": [
        "## Introductory Exercises"
      ]
    },
    {
      "cell_type": "code",
      "execution_count": 22,
      "metadata": {
        "colab": {
          "base_uri": "https://localhost:8080/"
        },
        "id": "GVM0ecY4xTd8",
        "outputId": "9ed5affd-8b1e-4504-aeb8-c82cd55d4b66"
      },
      "outputs": [
        {
          "output_type": "stream",
          "name": "stdout",
          "text": [
            "Please enter your first name: tom\n",
            "Bonjour, tom! Nous pensons que vous êtes aux alentours de 66 ans.\n"
          ]
        }
      ],
      "source": [
        "# Exercise 1\n",
        "# Write a script that asks the user for their first name\n",
        "# and responds with a personalized message\n",
        "# using the agify API\n",
        "\n",
        "# https://api.agify.io/?name=YOUR_NAME\n",
        "# Example response: {\"name\":\"YOUR_NAME\",\"age\":30,\"count\":12345}\n",
        "\n",
        "user_name = input(\"Please enter your first name: \")\n",
        "api_url = f\"https://api.agify.io/?name={user_name}\"\n",
        "response = requests.get(api_url)\n",
        "\n",
        "if response.status_code == 200:\n",
        "    data = response.json()\n",
        "\n",
        "    age = data['age']\n",
        "\n",
        "    print(f\"Bonjour, {user_name}! Nous pensons que vous êtes aux alentours de {age} ans.\")\n",
        "else:\n",
        "    print(\"Pas réussi à établir connexion\")\n"
      ]
    },
    {
      "cell_type": "code",
      "execution_count": 9,
      "metadata": {
        "colab": {
          "base_uri": "https://localhost:8080/"
        },
        "id": "cWNWtNqWxTd8",
        "outputId": "735cec25-774c-471b-a84f-56b84b514f59"
      },
      "outputs": [
        {
          "output_type": "stream",
          "name": "stdout",
          "text": [
            "Please enter your first name: Laureen\n",
            "Hello, Laureen! Based on your name, we guess you might identify as female.\n"
          ]
        }
      ],
      "source": [
        "# Exercise 2\n",
        "# Write a script that asks the user for their first name\n",
        "# and responds with a personalized message\n",
        "# using the genderize API\n",
        "# https://api.genderize.io/?name=YOUR_NAME\n",
        "\n",
        "user_name = input(\"Please enter your first name: \")\n",
        "api_url = f\"https://api.genderize.io/?name={user_name}\"\n",
        "response = requests.get(api_url)\n",
        "\n",
        "if response.status_code == 200:\n",
        "    data = response.json()\n",
        "    gender = data['gender']\n",
        "\n",
        "    if gender:\n",
        "        print(f\"Bonjour, {user_name}! D'après votre nom, nous pensons que vous vous identifiez comme {gender}.\")\n",
        "    else:\n",
        "        print(f\"Bonjour, {user_name}! Nous n'arrivons pas à deviner votre sexe à partir de votre nom.\")\n",
        "else:\n",
        "    print(\"Pas réussi à établir connexion\")\n",
        "\n"
      ]
    },
    {
      "cell_type": "code",
      "execution_count": 30,
      "metadata": {
        "colab": {
          "base_uri": "https://localhost:8080/"
        },
        "id": "113Atx89xTd8",
        "outputId": "3b7f779f-9bc2-407a-fea2-e35b90c927f8"
      },
      "outputs": [
        {
          "output_type": "stream",
          "name": "stdout",
          "text": [
            "Please enter your first name: xing\n",
            "Bonjour, xing! D'après votre nom, nous pensons que vous êtes originaire de CN.\n"
          ]
        }
      ],
      "source": [
        "# Exercise 3\n",
        "# Write a script that asks the user for their first name\n",
        "# and responds with a personalized message\n",
        "# using the nationalize API\n",
        "# https://api.nationalize.io/?name=YOUR_NAME\n",
        "\n",
        "user_name = input(\"Please enter your first name: \")\n",
        "api_url = f\"https://api.nationalize.io/?name={user_name}\"\n",
        "response = requests.get(api_url)\n",
        "\n",
        "if response.status_code == 200:\n",
        "    data = response.json()\n",
        "\n",
        "    if data['country']:\n",
        "        donnees = data['country']\n",
        "        pays_prob = donnees[0]['country_id']\n",
        "\n",
        "        print(f\"Bonjour, {user_name}! D'après votre nom, nous pensons que vous êtes originaire de {pays_prob}.\")\n",
        "    else:\n",
        "        print(f\"Bonjour, {user_name}! Nous n'arrivons pas à déterminer votre origine selon votre nom.\")\n",
        "else:\n",
        "    print(\"Pas réussi à établir connexion\")\n",
        "\n"
      ]
    },
    {
      "cell_type": "code",
      "execution_count": 33,
      "metadata": {
        "colab": {
          "base_uri": "https://localhost:8080/"
        },
        "id": "kB-wuGwnxTd8",
        "outputId": "4c68acba-fc47-40db-e6ef-cef20290f0fc"
      },
      "outputs": [
        {
          "output_type": "stream",
          "name": "stdout",
          "text": [
            "Please enter your first name: zeng\n",
            "Bonjour, zeng! D'après votre nom, il y a de fortes chances que vous soyez originaire de CN avec une proba de 58.50%.\n"
          ]
        }
      ],
      "source": [
        "# Exercise 3.1\n",
        "# Parsing the response from the nationalize API\n",
        "# Get the most probable country and its percentage\n",
        "# Example response: {\"name\":\"YOUR_NAME\",\"country\":[{\"country_id\":\"FR\",\"probability\":0.75},{\"country_id\":\"BE\",\"probability\":0.25}]}\n",
        "# Hint: use the max() function with a lambda function\n",
        "# https://docs.python.org/3/library/functions.html#max\n",
        "# https://docs.python.org/3/tutorial/controlflow.html#lambda-expressions\n",
        "\n",
        "user_name = input(\"Please enter your first name: \")\n",
        "api_url = f\"https://api.nationalize.io/?name={user_name}\"\n",
        "response = requests.get(api_url)\n",
        "\n",
        "if response.status_code == 200:\n",
        "    data = response.json()\n",
        "\n",
        "    if data['country']:\n",
        "        pays = max(data['country'], key=lambda x: x['probability'])\n",
        "        country_id = pays['country_id']\n",
        "        probability = pays['probability'] * 100  # Multiplie par 100 car sinon c'est entre 0 et 1\n",
        "\n",
        "        print(f\"Bonjour, {user_name}! D'après votre nom, il y a de fortes chances que vous soyez originaire de {country_id} avec une proba de {probability:.2f}%.\")\n",
        "    else:\n",
        "        print(f\"Bonjour, {user_name}! Nous n'arrivons pas à déterminer votre origine selon votre nom.\")\n",
        "else:\n",
        "    print(\"Désolé, nous n'avons pas pu récupérer les informations relatives à la nationalité pour le moment. Veuillez réessayer plus tard.\")\n",
        "\n"
      ]
    },
    {
      "cell_type": "code",
      "execution_count": 41,
      "metadata": {
        "colab": {
          "base_uri": "https://localhost:8080/"
        },
        "id": "WaL9Djn8xTd8",
        "outputId": "1b61b1d6-dbf5-4efc-d54b-bb9b0d5216db"
      },
      "outputs": [
        {
          "output_type": "stream",
          "name": "stdout",
          "text": [
            "Random Activity: Wash your car\n",
            "Activity for 4 participants: Go to a music festival with some friends\n",
            "Recreational activity for 4 participants: Go see a Broadway production\n",
            "Activity for 2 participants: Compliment someone\n"
          ]
        }
      ],
      "source": [
        "# Exercise 4\n",
        "# Use BoredAPI : https://www.boredapi.com/\n",
        "# Documentation : https://www.boredapi.com/documentation\n",
        "\n",
        "# 1. Write a script that generates random activities\n",
        "response = requests.get(\"https://www.boredapi.com/api/activity\")\n",
        "if response.status_code == 200:\n",
        "    activity = response.json().get('activity', 'No activity found.')\n",
        "    print(f\"Random Activity: {activity}\")\n",
        "else:\n",
        "    print(\"Failed to retrieve an activity.\")\n",
        "\n",
        "# 2. Write a script that generates random activities for 4 participants\n",
        "response = requests.get(f\"https://www.boredapi.com/api/activity?participants=4\")\n",
        "if response.status_code == 200:\n",
        "    activity = response.json().get('activity', 'No activity found.')\n",
        "    print(f\"Activity for 4 participants: {activity}\")\n",
        "else:\n",
        "    print(\"Failed to retrieve an activity.\")\n",
        "\n",
        "# 3. Write a script that generates random activities for 4 participants and of type \"recreational\"\n",
        "response = requests.get(f\"https://www.boredapi.com/api/activity?participants=4&type=recreational\")\n",
        "if response.status_code == 200:\n",
        "    activity = response.json().get('activity', 'No activity found.')\n",
        "    print(f\"Recreational activity for 4 participants: {activity}\")\n",
        "else:\n",
        "    print(\"Failed to retrieve an activity.\")\n",
        "\n",
        "# 4. Write a script that generates random activities for 2 participants and that does not require equipment\n",
        "response = requests.get(f\"https://www.boredapi.com/api/activity?participants=2\")\n",
        "if response.status_code == 200:\n",
        "    activity = response.json().get('activity', 'No activity found.')\n",
        "    print(f\"Activity for 2 participants: {activity}\")\n",
        "else:\n",
        "    print(\"Failed to retrieve an activity.\")\n",
        "\n",
        "\n"
      ]
    },
    {
      "cell_type": "markdown",
      "metadata": {
        "id": "3bXwEU6jxTd8"
      },
      "source": [
        "## Intermediate exercises"
      ]
    },
    {
      "cell_type": "code",
      "execution_count": 66,
      "metadata": {
        "colab": {
          "base_uri": "https://localhost:8080/"
        },
        "id": "IiaL0TlnxTd9",
        "outputId": "3995ac51-6b0d-4d37-c3df-bc228f7d739d"
      },
      "outputs": [
        {
          "output_type": "stream",
          "name": "stdout",
          "text": [
            "Kent\n",
            "Sussex\n",
            "Surrey\n",
            "Hampshire\n",
            "Berkshire\n",
            "Wiltshire\n",
            "Dorset\n",
            "Somerset\n",
            "Devon\n",
            "Cornwall\n",
            "Middlesex\n",
            "Hertfordshire\n",
            "Buckinghamshire\n",
            "Gloucestershire\n",
            "Oxfordshire\n",
            "Worcestershire\n",
            "Herefordshire\n",
            "Cambridgeshire\n",
            "Huntingdonshire\n",
            "Bedfordshire\n",
            "Northamptonshire\n",
            "Leicestershire\n",
            "Warwickshire\n",
            "Staffordshire\n",
            "Shropshire\n",
            "Cheshire\n",
            "Derbyshire\n",
            "Nottinghamshire\n",
            "Rutland\n",
            "Yorkshire\n",
            "Lincolnshire\n",
            "Claims: YB\n",
            "Claims: YC\n",
            "Claims: LC\n",
            "Claims: HC\n",
            "Claims: YS\n",
            "Essex\n",
            "Norfolk\n",
            "Suffolk\n",
            "Lancashire\n"
          ]
        }
      ],
      "source": [
        "# OpenDomesday\n",
        "# https://opendomesday.org/api/\n",
        "\n",
        "# Exercise 1\n",
        "# Write a script that displays all the counties\n",
        "# using the OpenDomesday API.\n",
        "\n",
        "api_url = \"https://opendomesday.org/api/1.0/county/\"\n",
        "response = requests.get(api_url)\n",
        "\n",
        "if response.status_code == 200:\n",
        "    counties = response.json()\n",
        "\n",
        "    for county in counties:\n",
        "        print(county['name'])\n",
        "else:\n",
        "    print(\"Failed to retrieve the counties. Please check the API endpoint and try again.\")"
      ]
    },
    {
      "cell_type": "code",
      "execution_count": 69,
      "metadata": {
        "colab": {
          "base_uri": "https://localhost:8080/"
        },
        "id": "IL4t-VtQxTd9",
        "outputId": "47c7219b-e619-4d7f-8bfb-8f7cea0c293a"
      },
      "outputs": [
        {
          "output_type": "stream",
          "name": "stdout",
          "text": [
            "{'id': 'dby', 'name': 'Derbyshire', 'name_slug': 'derbyshire', 'places_in_county': [{'id': 1036}, {'id': 2558}, {'id': 3016}, {'id': 4791}, {'id': 6093}, {'id': 8701}, {'id': 8951}, {'id': 9101}, {'id': 11441}, {'id': 10771}, {'id': 16116}, {'id': 20861}, {'id': 22251}, {'id': 22571}, {'id': 22611}, {'id': 24741}, {'id': 25536}, {'id': 19061}, {'id': 30246}, {'id': 31896}, {'id': 32521}, {'id': 32981}, {'id': 33916}, {'id': 41346}, {'id': 41788}, {'id': 41801}, {'id': 45821}, {'id': 47401}, {'id': 47411}, {'id': 52361}, {'id': 52596}, {'id': 53901}, {'id': 54446}, {'id': 54646}, {'id': 55736}, {'id': 56786}, {'id': 57061}, {'id': 60236}, {'id': 60351}, {'id': 60816}, {'id': 63606}, {'id': 65368}, {'id': 73221}, {'id': 73731}, {'id': 73741}, {'id': 91}, {'id': 2623}, {'id': 3011}, {'id': 3941}, {'id': 4046}, {'id': 5016}, {'id': 5676}, {'id': 7111}, {'id': 7116}, {'id': 7451}, {'id': 9056}, {'id': 10981}, {'id': 11656}, {'id': 11941}, {'id': 12751}, {'id': 13401}, {'id': 14081}, {'id': 14306}, {'id': 15306}, {'id': 15451}, {'id': 17386}, {'id': 17811}, {'id': 19611}, {'id': 22436}, {'id': 22476}, {'id': 24011}, {'id': 24306}, {'id': 25081}, {'id': 27521}, {'id': 33816}, {'id': 40056}, {'id': 28311}, {'id': 29846}, {'id': 30061}, {'id': 30211}, {'id': 30536}, {'id': 30571}, {'id': 20391}, {'id': 32571}, {'id': 33016}, {'id': 36211}, {'id': 37586}, {'id': 40057}, {'id': 39661}, {'id': 39956}, {'id': 40466}, {'id': 42799}, {'id': 43751}, {'id': 44321}, {'id': 28296}, {'id': 34241}, {'id': 46861}, {'id': 26971}, {'id': 2366}, {'id': 48026}, {'id': 49236}, {'id': 50311}, {'id': 52766}, {'id': 52791}, {'id': 55006}, {'id': 55131}, {'id': 58231}, {'id': 59051}, {'id': 42936}, {'id': 61396}, {'id': 62566}, {'id': 63721}, {'id': 67724}, {'id': 69701}, {'id': 72781}, {'id': 73841}, {'id': 14941}, {'id': 20691}, {'id': 39371}, {'id': 42171}, {'id': 54526}, {'id': 46681}, {'id': 51241}, {'id': 64663}, {'id': 70526}, {'id': 1326}, {'id': 2401}, {'id': 3291}, {'id': 4001}, {'id': 8116}, {'id': 8831}, {'id': 9461}, {'id': 10196}, {'id': 12706}, {'id': 13281}, {'id': 22243}, {'id': 18184}, {'id': 18736}, {'id': 23231}, {'id': 6141}, {'id': 29236}, {'id': 29861}, {'id': 32336}, {'id': 33086}, {'id': 34446}, {'id': 35221}, {'id': 35041}, {'id': 37056}, {'id': 38231}, {'id': 40456}, {'id': 41344}, {'id': 42041}, {'id': 42046}, {'id': 42797}, {'id': 45553}, {'id': 46851}, {'id': 48266}, {'id': 49221}, {'id': 55881}, {'id': 56826}, {'id': 56941}, {'id': 61526}, {'id': 62731}, {'id': 63966}, {'id': 66911}, {'id': 68251}, {'id': 68481}, {'id': 68546}, {'id': 71226}, {'id': 71466}, {'id': 1136}, {'id': 1456}, {'id': 1596}, {'id': 2106}, {'id': 3163}, {'id': 4646}, {'id': 5396}, {'id': 8456}, {'id': 11731}, {'id': 14476}, {'id': 18001}, {'id': 19416}, {'id': 22741}, {'id': 23256}, {'id': 23731}, {'id': 24921}, {'id': 35046}, {'id': 35311}, {'id': 37656}, {'id': 39466}, {'id': 39566}, {'id': 40901}, {'id': 41658}, {'id': 42536}, {'id': 42741}, {'id': 44361}, {'id': 45893}, {'id': 47416}, {'id': 49901}, {'id': 50661}, {'id': 50806}, {'id': 54966}, {'id': 56216}, {'id': 58701}, {'id': 61046}, {'id': 63391}, {'id': 65696}, {'id': 69008}, {'id': 69081}, {'id': 70641}, {'id': 8956}, {'id': 9586}, {'id': 9611}, {'id': 13741}, {'id': 13806}, {'id': 16581}, {'id': 18621}, {'id': 19941}, {'id': 20101}, {'id': 21051}, {'id': 21326}, {'id': 28556}, {'id': 30666}, {'id': 31306}, {'id': 32361}, {'id': 33141}, {'id': 33376}, {'id': 34646}, {'id': 35946}, {'id': 37591}, {'id': 14686}, {'id': 22266}, {'id': 28563}, {'id': 22271}, {'id': 41006}, {'id': 41521}, {'id': 43091}, {'id': 43991}, {'id': 46746}, {'id': 48806}, {'id': 51961}, {'id': 52096}, {'id': 53806}, {'id': 53996}, {'id': 55576}, {'id': 55956}, {'id': 56606}, {'id': 56696}, {'id': 57526}, {'id': 58046}, {'id': 58196}, {'id': 66498}, {'id': 16166}, {'id': 18951}, {'id': 22546}, {'id': 58356}, {'id': 71196}, {'id': 986}, {'id': 2711}, {'id': 4311}, {'id': 4369}, {'id': 5791}, {'id': 7651}, {'id': 8016}, {'id': 8721}, {'id': 9218}, {'id': 10026}, {'id': 12721}, {'id': 14691}, {'id': 16356}, {'id': 3106}, {'id': 20756}, {'id': 21276}, {'id': 21301}, {'id': 22406}, {'id': 22766}, {'id': 23121}, {'id': 23598}, {'id': 26856}, {'id': 4367}, {'id': 27776}, {'id': 29076}, {'id': 29411}, {'id': 32576}, {'id': 32686}, {'id': 35996}, {'id': 40296}, {'id': 29071}, {'id': 44051}, {'id': 44161}, {'id': 49241}, {'id': 45036}, {'id': 45366}, {'id': 71096}, {'id': 46101}, {'id': 46946}, {'id': 9288}, {'id': 65551}, {'id': 69858}, {'id': 47811}, {'id': 48031}, {'id': 48116}, {'id': 51193}, {'id': 52801}, {'id': 54166}, {'id': 55731}, {'id': 45936}, {'id': 71101}, {'id': 57756}, {'id': 58531}, {'id': 33646}, {'id': 60001}, {'id': 60836}, {'id': 61561}, {'id': 45941}, {'id': 63656}, {'id': 64516}, {'id': 65483}, {'id': 65938}, {'id': 66136}, {'id': 66256}, {'id': 66576}, {'id': 67036}, {'id': 68591}, {'id': 69901}, {'id': 70561}, {'id': 71081}, {'id': 52156}, {'id': 1906}, {'id': 8081}, {'id': 9741}, {'id': 12676}, {'id': 13531}, {'id': 17906}, {'id': 21011}, {'id': 25441}, {'id': 29931}, {'id': 30696}, {'id': 34821}, {'id': 40511}, {'id': 42251}, {'id': 43196}, {'id': 45656}, {'id': 51576}, {'id': 52566}, {'id': 56681}, {'id': 58171}, {'id': 58191}, {'id': 60031}, {'id': 60896}, {'id': 63696}, {'id': 67171}]}\n"
          ]
        }
      ],
      "source": [
        "# Exercise 2\n",
        "# Write a script that displays the information\n",
        "# of the county \"Derbyshire\".\n",
        "\n",
        "\n",
        "\n",
        "api_url = \"https://opendomesday.org/api/1.0/county/\"\n",
        "response = requests.get(api_url)\n",
        "\n",
        "if response.status_code == 200:\n",
        "    county_info = response.json()\n",
        "    for county in county_info:\n",
        "      if \"Derbyshire\".lower() == county.get('name','').lower():\n",
        "        if county:\n",
        "          print(county)\n",
        "else:\n",
        "    print(\"Failed to retrieve the county information. Please check the API endpoint and try again.\")\n"
      ]
    },
    {
      "cell_type": "code",
      "execution_count": 84,
      "metadata": {
        "colab": {
          "base_uri": "https://localhost:8080/"
        },
        "id": "qDr9Xlt1xTd9",
        "outputId": "8d96f841-8087-4506-cdd7-16ed84fdd203"
      },
      "outputs": [
        {
          "output_type": "stream",
          "name": "stdout",
          "text": [
            "test1\n",
            "test1\n",
            "test1\n",
            "test1\n",
            "test1\n",
            "test1\n",
            "test1\n",
            "test1\n",
            "test1\n",
            "test1\n",
            "test1\n",
            "test1\n",
            "test1\n",
            "test1\n",
            "test1\n",
            "test1\n",
            "test1\n",
            "test1\n",
            "test1\n",
            "test1\n",
            "test1\n",
            "test1\n",
            "test1\n",
            "test1\n",
            "test1\n",
            "test1\n",
            "test1\n",
            "test1\n",
            "test1\n",
            "test1\n",
            "test1\n",
            "test1\n",
            "test1\n",
            "test1\n",
            "test1\n",
            "test1\n",
            "test1\n",
            "test1\n",
            "test1\n",
            "test1\n"
          ]
        }
      ],
      "source": [
        "# Exercise 3\n",
        "# Now that we have the ids for all the places in Derbyshire, we can load all their details...\n",
        "# And from their details, we can list all the details of their manors.\n",
        "# Go fetch the data!\n",
        "# P.S.: remember to save the data to avoid downloading it every time\n",
        "\n",
        "import requests\n",
        "\n",
        "# Fetch the Place IDs for Derbyshire\n",
        "api_url = \"https://opendomesday.org/api/1.0/county/\"\n",
        "county_response = requests.get(api_url)\n",
        "\n",
        "if county_response.status_code == 200:\n",
        "    places = county_response.json()\n",
        "\n",
        "    # Iterate over each place to fetch its details\n",
        "    for place in places:\n",
        "        place_id = place.get('id')\n",
        "        place_details_url = f\"https://opendomesday.org/api/1.0/place/{place_id}\"\n",
        "        print(\"test1\")\n",
        "\n",
        "        place_response = requests.get(place_details_url)\n",
        "        if place_response.status_code == 200:\n",
        "            place_details = place_response.json()\n",
        "\n",
        "            # Assuming manors details are part of the place details\n",
        "            # This will depend on the actual structure of the response\n",
        "            manors = place_details.get('manors', [])\n",
        "            print(\"test2\")\n",
        "            for manor in manors:\n",
        "                # Print out manor details, or process them as needed\n",
        "                print(manor)  # Replace this with whatever details are relevant\n",
        "                print(\"test3\")\n",
        "else:\n",
        "    print(\"Failed to retrieve the county information. Please check the API endpoint and try again.\")\n"
      ]
    },
    {
      "cell_type": "code",
      "execution_count": null,
      "metadata": {
        "id": "-u6v3ki-xTd9"
      },
      "outputs": [],
      "source": [
        "# Exercise 4\n",
        "# Now that we have a quantity of raw data, we will extract the interesting parts.\n",
        "# In our case, we want to count the money paid by each manor and compare it to the number of ploughs it has.\n",
        "# - Can you find the corresponding json fields?\n",
        "# - Then, you can list these numbers for each manor in Derbyshire.\n",
        "# - And format this in an appropriate comma-separated values (CSV) file.\n",
        "\n",
        "#######################################################\n",
        "################## YOUR ANSWER HERE ##################\n",
        "#######################################################\n",
        "\n"
      ]
    },
    {
      "cell_type": "code",
      "execution_count": null,
      "metadata": {
        "id": "IQCQEcTXxTd9"
      },
      "outputs": [],
      "source": [
        "# Exercise 5\n",
        "# What is the richest manor in Derbyshire?\n",
        "\n",
        "#######################################################\n",
        "################## YOUR ANSWER HERE ##################\n",
        "#######################################################\n"
      ]
    },
    {
      "cell_type": "code",
      "execution_count": null,
      "metadata": {
        "id": "5ZDPcldxxTd9"
      },
      "outputs": [],
      "source": [
        "# Exercise 6\n",
        "# Give the total value paid by Derbyshire.\n",
        "\n",
        "#######################################################\n",
        "################## YOUR ANSWER HERE ##################\n",
        "#######################################################\n"
      ]
    },
    {
      "cell_type": "code",
      "execution_count": null,
      "metadata": {
        "id": "ThBEO694xTd9"
      },
      "outputs": [],
      "source": [
        "# Exercise 7\n",
        "# Create a Python class.\n",
        "# It must include all the previous functionalities.\n",
        "# Refactor your code to make it readable, efficient, and maintainable.\n",
        "\n",
        "#######################################################\n",
        "################## YOUR ANSWER HERE ##################\n",
        "#######################################################\n"
      ]
    },
    {
      "cell_type": "code",
      "execution_count": null,
      "metadata": {
        "id": "lcM1UPwtxTd9"
      },
      "outputs": [],
      "source": [
        "# Exercise 8 (optional)\n",
        "# Add to your class a system for error handling.\n",
        "# It must manage the following errors:\n",
        "# - Connection error\n",
        "# - Parsing error\n",
        "# - Request error\n",
        "# - Response error\n",
        "# - Parameter error\n",
        "\n",
        "#######################################################\n",
        "################## YOUR ANSWER HERE ##################\n",
        "#######################################################\n",
        "\n"
      ]
    }
  ],
  "metadata": {
    "kernelspec": {
      "display_name": "api",
      "language": "python",
      "name": "python3"
    },
    "language_info": {
      "codemirror_mode": {
        "name": "ipython",
        "version": 3
      },
      "file_extension": ".py",
      "mimetype": "text/x-python",
      "name": "python",
      "nbconvert_exporter": "python",
      "pygments_lexer": "ipython3",
      "version": "3.11.6"
    },
    "colab": {
      "provenance": []
    }
  },
  "nbformat": 4,
  "nbformat_minor": 0
}